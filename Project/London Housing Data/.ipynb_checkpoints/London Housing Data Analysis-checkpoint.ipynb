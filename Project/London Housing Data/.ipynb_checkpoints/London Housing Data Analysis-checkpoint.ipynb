{
 "cells": [
  {
   "cell_type": "code",
   "execution_count": null,
   "id": "00a8f3a9",
   "metadata": {},
   "outputs": [],
   "source": []
  },
  {
   "cell_type": "markdown",
   "id": "d02090c2",
   "metadata": {},
   "source": [
    "## Q1. Convert DataType of Date Column to date-time formate"
   ]
  },
  {
   "cell_type": "code",
   "execution_count": null,
   "id": "1bacbd7a",
   "metadata": {},
   "outputs": [],
   "source": []
  },
  {
   "cell_type": "markdown",
   "id": "f269a0e6",
   "metadata": {},
   "source": [
    "## Q2. Add a New column Year which will contain year only"
   ]
  },
  {
   "cell_type": "code",
   "execution_count": null,
   "id": "5d252882",
   "metadata": {},
   "outputs": [],
   "source": []
  },
  {
   "cell_type": "markdown",
   "id": "bd96193c",
   "metadata": {},
   "source": [
    "## Q3. Add a column  month as a 2nd column which will contain month Only"
   ]
  },
  {
   "cell_type": "code",
   "execution_count": null,
   "id": "e38f3491",
   "metadata": {},
   "outputs": [],
   "source": []
  },
  {
   "cell_type": "markdown",
   "id": "2613080e",
   "metadata": {},
   "source": [
    "## Q4. Remove the column Year and MOnth from data set"
   ]
  },
  {
   "cell_type": "code",
   "execution_count": null,
   "id": "4930cfd3",
   "metadata": {},
   "outputs": [],
   "source": []
  },
  {
   "cell_type": "markdown",
   "id": "6e7ef064",
   "metadata": {},
   "source": [
    "## Q5. Show all the records wher No.Crime is 0 and How many records are there ."
   ]
  },
  {
   "cell_type": "code",
   "execution_count": null,
   "id": "94d858fd",
   "metadata": {},
   "outputs": [],
   "source": []
  },
  {
   "cell_type": "markdown",
   "id": "7325ba60",
   "metadata": {},
   "source": [
    "## Q6. What is minimum and Maximum 'Average Price' per year in England "
   ]
  },
  {
   "cell_type": "code",
   "execution_count": null,
   "id": "13ce4e7d",
   "metadata": {},
   "outputs": [],
   "source": []
  },
  {
   "cell_type": "markdown",
   "id": "d30bc232",
   "metadata": {},
   "source": [
    "## Q7. What is minimum and Maximum no of crime per area."
   ]
  },
  {
   "cell_type": "code",
   "execution_count": null,
   "id": "bcdd851f",
   "metadata": {},
   "outputs": [],
   "source": []
  },
  {
   "cell_type": "markdown",
   "id": "7a5f9cbd",
   "metadata": {},
   "source": [
    "## Q8. Show the total count of record by each area where average price is less than 100000"
   ]
  },
  {
   "cell_type": "code",
   "execution_count": null,
   "id": "1628c729",
   "metadata": {},
   "outputs": [],
   "source": []
  },
  {
   "cell_type": "markdown",
   "id": "7af4c8f2",
   "metadata": {},
   "source": []
  }
 ],
 "metadata": {
  "kernelspec": {
   "display_name": "Python 3",
   "language": "python",
   "name": "python3"
  },
  "language_info": {
   "codemirror_mode": {
    "name": "ipython",
    "version": 3
   },
   "file_extension": ".py",
   "mimetype": "text/x-python",
   "name": "python",
   "nbconvert_exporter": "python",
   "pygments_lexer": "ipython3",
   "version": "3.8.8"
  }
 },
 "nbformat": 4,
 "nbformat_minor": 5
}
