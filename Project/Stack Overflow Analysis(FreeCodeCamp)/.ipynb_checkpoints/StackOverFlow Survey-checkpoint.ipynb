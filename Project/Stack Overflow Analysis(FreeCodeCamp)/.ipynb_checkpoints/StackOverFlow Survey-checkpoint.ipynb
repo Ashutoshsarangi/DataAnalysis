{
 "cells": [
  {
   "cell_type": "code",
   "execution_count": 1,
   "id": "aaf75b73",
   "metadata": {},
   "outputs": [],
   "source": [
    "surveyResultsPublicFileName = 'survey_results_public.csv';\n",
    "surveyResultsSchemaFileName='survey_results_schema.csv';"
   ]
  },
  {
   "cell_type": "code",
   "execution_count": 3,
   "id": "6b7d55d0",
   "metadata": {},
   "outputs": [],
   "source": [
    "# Here we are going load all the Libraries which we are going to use through out the Project / Analysis.\n",
    "import pandas as pd"
   ]
  },
  {
   "cell_type": "code",
   "execution_count": null,
   "id": "f3821d82",
   "metadata": {},
   "outputs": [],
   "source": []
  }
 ],
 "metadata": {
  "kernelspec": {
   "display_name": "Python 3",
   "language": "python",
   "name": "python3"
  },
  "language_info": {
   "codemirror_mode": {
    "name": "ipython",
    "version": 3
   },
   "file_extension": ".py",
   "mimetype": "text/x-python",
   "name": "python",
   "nbconvert_exporter": "python",
   "pygments_lexer": "ipython3",
   "version": "3.8.8"
  }
 },
 "nbformat": 4,
 "nbformat_minor": 5
}
