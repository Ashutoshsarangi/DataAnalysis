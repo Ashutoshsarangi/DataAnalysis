{
 "cells": [
  {
   "cell_type": "markdown",
   "id": "2e42b8ba",
   "metadata": {},
   "source": [
    "# Start\n",
    "\n",
    "## Read / Write a file using Python"
   ]
  },
  {
   "cell_type": "markdown",
   "id": "7a24e6ca",
   "metadata": {},
   "source": [
    "### There are actually 1 methods for Open a file\n",
    "\n",
    "That is called **Open('File Path', Mode)** <br>\n",
    "For Mode there are mainly 5 Modes are ther\n",
    "    \n",
    "1. r\n",
    "1. w\n",
    "1. a\n",
    "1. r+\n",
    "1. w+"
   ]
  },
  {
   "cell_type": "markdown",
   "id": "2560bd23",
   "metadata": {},
   "source": [
    "For Reacting content / writing contect we need **read() and write()** finctions.\n",
    "\n",
    "## Note:-\n",
    "\n",
    "We need to close a file after the Operation is done. \n",
    "\n",
    "Else start **with Statement**\n",
    "\n",
    "*with Open('File Path', Mode)*"
   ]
  },
  {
   "cell_type": "code",
   "execution_count": 1,
   "id": "f17cbf4e",
   "metadata": {},
   "outputs": [
    {
     "name": "stdout",
     "output_type": "stream",
     "text": [
      "Now the Whole File is going to be replaced with this statement NOw this Original File is going to be Appended with the previous content Hello Brother, This is a Dummy File Which I am Going to read and Write.  NOw this Original File is going to be Appended with the previous content \n",
      " Hello Brother, This is a Dummy File Which I am Going to read and Write.  \n",
      " NOw this Original File is going to be Appended with the previous content \n",
      " Hello Brother, This is a Dummy File Which I am Going to read and Write. \n"
     ]
    }
   ],
   "source": [
    "f = open('temp.txt', 'r')\n",
    "\n",
    "print(f.read())\n",
    "\n",
    "f.close()"
   ]
  },
  {
   "cell_type": "code",
   "execution_count": 2,
   "id": "3417cf84",
   "metadata": {},
   "outputs": [],
   "source": [
    "f_out = open('temp.txt', 'w')\n",
    "\n",
    "f_out.write('Now the Whole File is going to be replaced with this statement');\n",
    "\n",
    "f_out.close()"
   ]
  },
  {
   "cell_type": "code",
   "execution_count": 3,
   "id": "ac063b8e",
   "metadata": {},
   "outputs": [
    {
     "name": "stdout",
     "output_type": "stream",
     "text": [
      "Now the Whole File is going to be replaced with this statement\n"
     ]
    }
   ],
   "source": [
    "f_in = open('temp.txt', 'r')\n",
    "\n",
    "print(f_in.read())\n",
    "\n",
    "f_in.close()"
   ]
  },
  {
   "cell_type": "code",
   "execution_count": 4,
   "id": "b3349275",
   "metadata": {},
   "outputs": [],
   "source": [
    "with open('temp.txt', 'a') as f_out_a:\n",
    "    f_out_a.write(' \\n NOw this Original File is going to be Appended with the previous content \\n Hello Brother, This is a Dummy File Which I am Going to read and Write. ');\n",
    "\n",
    "#Here we no Need to close the file Explicitly as it will do automatically."
   ]
  },
  {
   "cell_type": "code",
   "execution_count": 5,
   "id": "4260af9c",
   "metadata": {},
   "outputs": [
    {
     "name": "stdout",
     "output_type": "stream",
     "text": [
      "Now the Whole File is going to be replaced with this statement \n",
      " NOw this Original File is going to be Appended with the previous content \n",
      " Hello Brother, This is a Dummy File Which I am Going to read and Write. \n"
     ]
    }
   ],
   "source": [
    "with open('temp.txt', 'r') as f_out_r:\n",
    "    print(f_out_r.read())"
   ]
  },
  {
   "cell_type": "markdown",
   "id": "22c1db2b",
   "metadata": {},
   "source": [
    "# Completed\n",
    "\n",
    "#### By Ashu Inspired By codebasic"
   ]
  }
 ],
 "metadata": {
  "kernelspec": {
   "display_name": "Python 3",
   "language": "python",
   "name": "python3"
  },
  "language_info": {
   "codemirror_mode": {
    "name": "ipython",
    "version": 3
   },
   "file_extension": ".py",
   "mimetype": "text/x-python",
   "name": "python",
   "nbconvert_exporter": "python",
   "pygments_lexer": "ipython3",
   "version": "3.8.8"
  }
 },
 "nbformat": 4,
 "nbformat_minor": 5
}
