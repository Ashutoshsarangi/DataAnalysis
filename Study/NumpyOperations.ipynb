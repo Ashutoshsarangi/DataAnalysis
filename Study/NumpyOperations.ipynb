{
 "cells": [
  {
   "cell_type": "markdown",
   "id": "ed1d9e50",
   "metadata": {},
   "source": [
    "## Numpy Operations Used In Data Analysis\n",
    "\n",
    "I created the Data Sourse By My Self\n",
    "\n",
    "\n",
    "Inspired By FreeCodeCamp"
   ]
  },
  {
   "cell_type": "code",
   "execution_count": 1,
   "id": "4c6964d4",
   "metadata": {},
   "outputs": [],
   "source": [
    "import numpy as np\n",
    "import pandas as pd\n",
    "import os"
   ]
  },
  {
   "cell_type": "code",
   "execution_count": 2,
   "id": "ce0b3c64",
   "metadata": {},
   "outputs": [
    {
     "name": "stdout",
     "output_type": "stream",
     "text": [
      "/Users/neosoft/Desktop/Master/Learning/Data Analysis Using Python\n",
      "ClimateChange.xlsx\n"
     ]
    }
   ],
   "source": [
    "#This is For Getting the Current Working Directory and the List of Files contain in the directory\n",
    "path = os.getcwd()\n",
    "print(path)\n",
    "files = os.listdir(path)\n",
    "print(files[1])"
   ]
  },
  {
   "cell_type": "code",
   "execution_count": 3,
   "id": "df074348",
   "metadata": {},
   "outputs": [],
   "source": [
    "df = pd.read_excel('ClimateChange.xlsx', header=0)"
   ]
  },
  {
   "cell_type": "code",
   "execution_count": 4,
   "id": "34004f04",
   "metadata": {},
   "outputs": [],
   "source": [
    "arr1 = np.array(df)\n",
    "arr2 = np.array([0.3,0.1,0.4])"
   ]
  },
  {
   "cell_type": "code",
   "execution_count": 7,
   "id": "dfbd7154",
   "metadata": {},
   "outputs": [],
   "source": [
    "result=arr1 @ arr2 # Here we need to Do Matrix Multiplication @/matmul is the operator for the same"
   ]
  },
  {
   "cell_type": "code",
   "execution_count": 9,
   "id": "bbe9b69b",
   "metadata": {},
   "outputs": [
    {
     "data": {
      "text/plain": [
       "(10000,)"
      ]
     },
     "execution_count": 9,
     "metadata": {},
     "output_type": "execute_result"
    }
   ],
   "source": [
    "result.shape"
   ]
  },
  {
   "cell_type": "code",
   "execution_count": 19,
   "id": "19b15cc2",
   "metadata": {},
   "outputs": [],
   "source": [
    "# Here reshape Function in used for Transpose the Result matrix\n",
    "# And Axis = 1 stands for Column Wise\n",
    "\n",
    "finalResult = np.concatenate((arr1, result.reshape(10000,1)), axis=1) #Appending the result as a 4th Column in the Data Set"
   ]
  },
  {
   "cell_type": "code",
   "execution_count": 20,
   "id": "587726f8",
   "metadata": {},
   "outputs": [
    {
     "data": {
      "text/plain": [
       "array([[9.3  , 3.62 , 5.07 , 5.18 ],\n",
       "       [8.55 , 8.71 , 6.08 , 5.868],\n",
       "       [2.11 , 3.74 , 3.7  , 2.487],\n",
       "       ...,\n",
       "       [8.82 , 3.75 , 2.73 , 4.113],\n",
       "       [5.94 , 9.09 , 9.38 , 6.443],\n",
       "       [4.05 , 8.07 , 5.12 , 4.07 ]])"
      ]
     },
     "execution_count": 20,
     "metadata": {},
     "output_type": "execute_result"
    }
   ],
   "source": [
    "finalResult"
   ]
  },
  {
   "cell_type": "code",
   "execution_count": 26,
   "id": "f3210b2d",
   "metadata": {},
   "outputs": [],
   "source": [
    "#Now its time to save the Information Back to the Excel File.\n",
    "# we are using pandas to do the operation \n",
    "# Her\n",
    "pp = pd.DataFrame(finalResult)\n",
    "pp.to_excel(\"ClimateChange.xlsx\");"
   ]
  },
  {
   "cell_type": "code",
   "execution_count": null,
   "id": "05409a28",
   "metadata": {},
   "outputs": [],
   "source": []
  }
 ],
 "metadata": {
  "kernelspec": {
   "display_name": "Python 3",
   "language": "python",
   "name": "python3"
  },
  "language_info": {
   "codemirror_mode": {
    "name": "ipython",
    "version": 3
   },
   "file_extension": ".py",
   "mimetype": "text/x-python",
   "name": "python",
   "nbconvert_exporter": "python",
   "pygments_lexer": "ipython3",
   "version": "3.8.8"
  }
 },
 "nbformat": 4,
 "nbformat_minor": 5
}
