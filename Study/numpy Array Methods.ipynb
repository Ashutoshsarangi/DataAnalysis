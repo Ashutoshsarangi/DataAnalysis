{
 "cells": [
  {
   "cell_type": "markdown",
   "id": "768d77aa",
   "metadata": {},
   "source": [
    "# Start\n",
    "\n",
    "## Here We will see Numpy Methods for Slicing and Stacking and Boolean indexing\n",
    "\n",
    "For Slicing we have [:] \n",
    "\n",
    "For Stacking we have 2 methods \n",
    "\n",
    "- vstack\n",
    "- hstack\n",
    "\n",
    "These 2 methods are used for Stack/ combine 2 arrays based on vartical / Horizontal\n",
    "\n",
    "**reshape()**\n",
    "\n",
    "It is used to restructure an Array with specified formate\n",
    "\n",
    "Now Lets say you have a big Array and you wanted to split it in chunks you can do using 2 functions\n",
    "\n",
    "- hsplit\n",
    "- vsplit\n",
    "\n",
    "these 2 functions are responsibility for spliting a larger Array into different chunks..\n",
    "\n",
    "### Indexing with Boolean Array\n",
    "\n",
    "This is a crucial or Very Important concept\n",
    "\n",
    "if you have a 2D Array \n",
    "```\n",
    "ex:- \n",
    "    a = [Array]\n",
    "    b = a>4\n",
    "    #so Now b having an boolean array conisting of respective values\n",
    "    a[b] # this is important \n",
    "    # the true values we have we will get the values\n",
    "    \n",
    "```"
   ]
  },
  {
   "cell_type": "code",
   "execution_count": 4,
   "id": "af55a5b8",
   "metadata": {},
   "outputs": [
    {
     "name": "stdout",
     "output_type": "stream",
     "text": [
      "[ 0  1  2  3  4  5  6  7  8  9 10 11 12 13 14 15 16 17 18 19]\n"
     ]
    },
    {
     "data": {
      "text/plain": [
       "array([[ 0,  1,  2,  3,  4],\n",
       "       [ 5,  6,  7,  8,  9],\n",
       "       [10, 11, 12, 13, 14],\n",
       "       [15, 16, 17, 18, 19]])"
      ]
     },
     "execution_count": 4,
     "metadata": {},
     "output_type": "execute_result"
    }
   ],
   "source": [
    "import numpy as np\n",
    "\n",
    "arr = np.arange(20)\n",
    "print(arr)\n",
    "arr.reshape(4, -1)"
   ]
  },
  {
   "cell_type": "code",
   "execution_count": 7,
   "id": "c9e1276f",
   "metadata": {},
   "outputs": [
    {
     "name": "stdout",
     "output_type": "stream",
     "text": [
      "[[ 0  1  2  3]\n",
      " [ 4  5  6  7]\n",
      " [ 8  9 10 11]]\n",
      "[[12 13 14 15]\n",
      " [16 17 18 19]\n",
      " [20 21 22 23]]\n"
     ]
    }
   ],
   "source": [
    "a = np.arange(12).reshape(3,-1)\n",
    "print(a)\n",
    "\n",
    "b= np.arange(12,24).reshape(3,4)\n",
    "print(b)"
   ]
  },
  {
   "cell_type": "code",
   "execution_count": 11,
   "id": "350970c4",
   "metadata": {},
   "outputs": [
    {
     "name": "stdout",
     "output_type": "stream",
     "text": [
      "[[ 0  1  2  3]\n",
      " [ 4  5  6  7]\n",
      " [ 8  9 10 11]\n",
      " [12 13 14 15]\n",
      " [16 17 18 19]\n",
      " [20 21 22 23]]\n",
      "[[ 0  1  2  3 12 13 14 15]\n",
      " [ 4  5  6  7 16 17 18 19]\n",
      " [ 8  9 10 11 20 21 22 23]]\n"
     ]
    }
   ],
   "source": [
    "# vstack / hstack\n",
    "varr = np.vstack((a,b))\n",
    "\n",
    "print(varr)\n",
    "\n",
    "harr = np.hstack((a,b))\n",
    "\n",
    "print(harr)"
   ]
  },
  {
   "cell_type": "code",
   "execution_count": 15,
   "id": "f8ae49bf",
   "metadata": {},
   "outputs": [
    {
     "name": "stdout",
     "output_type": "stream",
     "text": [
      "[[ 0  1  2  3  4  5  6  7  8  9 10 11 12 13 14 15 16 17 18 19]\n",
      " [20 21 22 23 24 25 26 27 28 29 30 31 32 33 34 35 36 37 38 39]]\n"
     ]
    }
   ],
   "source": [
    "bigarr = np.arange(40).reshape(2,-1)\n",
    "print(bigarr)"
   ]
  },
  {
   "cell_type": "code",
   "execution_count": 26,
   "id": "868e2d2a",
   "metadata": {},
   "outputs": [
    {
     "name": "stdout",
     "output_type": "stream",
     "text": [
      "[array([[ 0,  1],\n",
      "       [20, 21]]), array([[ 2,  3],\n",
      "       [22, 23]]), array([[ 4,  5],\n",
      "       [24, 25]]), array([[ 6,  7],\n",
      "       [26, 27]]), array([[ 8,  9],\n",
      "       [28, 29]]), array([[10, 11],\n",
      "       [30, 31]]), array([[12, 13],\n",
      "       [32, 33]]), array([[14, 15],\n",
      "       [34, 35]]), array([[16, 17],\n",
      "       [36, 37]]), array([[18, 19],\n",
      "       [38, 39]])]\n",
      "[array([[ 0,  1,  2,  3,  4,  5,  6,  7,  8,  9, 10, 11, 12, 13, 14, 15,\n",
      "        16, 17, 18, 19]]), array([[20, 21, 22, 23, 24, 25, 26, 27, 28, 29, 30, 31, 32, 33, 34, 35,\n",
      "        36, 37, 38, 39]])]\n"
     ]
    }
   ],
   "source": [
    "harr = np.hsplit(bigarr, 10) # these number are you need to think on it will split on Horizontal so what would be number \n",
    "\n",
    "print(harr)\n",
    "\n",
    "varr = np.vsplit(bigarr, 2)\n",
    "\n",
    "print(varr)"
   ]
  },
  {
   "cell_type": "code",
   "execution_count": 27,
   "id": "9dd1f141",
   "metadata": {},
   "outputs": [
    {
     "name": "stdout",
     "output_type": "stream",
     "text": [
      "[[ 0  1  2  3]\n",
      " [ 4  5  6  7]\n",
      " [ 8  9 10 11]]\n"
     ]
    }
   ],
   "source": [
    "a = np.arange(12).reshape(3,4)\n",
    "print(a)"
   ]
  },
  {
   "cell_type": "code",
   "execution_count": 28,
   "id": "148968e1",
   "metadata": {},
   "outputs": [
    {
     "name": "stdout",
     "output_type": "stream",
     "text": [
      "[[ True  True  True  True]\n",
      " [ True False False False]\n",
      " [False False False False]]\n"
     ]
    }
   ],
   "source": [
    "b = a < 5\n",
    "\n",
    "print(b)"
   ]
  },
  {
   "cell_type": "code",
   "execution_count": 34,
   "id": "fe45c30a",
   "metadata": {},
   "outputs": [],
   "source": [
    "a[b] = -1"
   ]
  },
  {
   "cell_type": "code",
   "execution_count": 35,
   "id": "75f30ed2",
   "metadata": {},
   "outputs": [
    {
     "data": {
      "text/plain": [
       "array([[-1, -1, -1, -1],\n",
       "       [-1,  5,  6,  7],\n",
       "       [ 8,  9, 10, 11]])"
      ]
     },
     "execution_count": 35,
     "metadata": {},
     "output_type": "execute_result"
    }
   ],
   "source": [
    "a\n"
   ]
  },
  {
   "cell_type": "markdown",
   "id": "cfe08592",
   "metadata": {},
   "source": [
    "## Completed\n",
    "\n",
    "#### By Ashu, Inspired by Codebasic"
   ]
  },
  {
   "cell_type": "code",
   "execution_count": null,
   "id": "7e102a28",
   "metadata": {},
   "outputs": [],
   "source": []
  }
 ],
 "metadata": {
  "kernelspec": {
   "display_name": "Python 3",
   "language": "python",
   "name": "python3"
  },
  "language_info": {
   "codemirror_mode": {
    "name": "ipython",
    "version": 3
   },
   "file_extension": ".py",
   "mimetype": "text/x-python",
   "name": "python",
   "nbconvert_exporter": "python",
   "pygments_lexer": "ipython3",
   "version": "3.8.8"
  }
 },
 "nbformat": 4,
 "nbformat_minor": 5
}
