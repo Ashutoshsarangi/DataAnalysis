{
 "cells": [
  {
   "cell_type": "markdown",
   "id": "ed1d9e50",
   "metadata": {},
   "source": [
    "## Numpy Operations Used In Data Analysis\n",
    "\n",
    "I created the Data Sourse By My Self\n",
    "\n",
    "\n",
    "Inspired By FreeCodeCamp"
   ]
  },
  {
   "cell_type": "code",
   "execution_count": 30,
   "id": "4c6964d4",
   "metadata": {},
   "outputs": [],
   "source": [
    "import numpy as np\n",
    "import pandas as pd\n",
    "import os"
   ]
  },
  {
   "cell_type": "code",
   "execution_count": 36,
   "id": "ce0b3c64",
   "metadata": {},
   "outputs": [
    {
     "name": "stdout",
     "output_type": "stream",
     "text": [
      "/Users/neosoft/Desktop/Master/Learning/Data Analysis Using Python\n",
      "ClimateChange.xlsx\n"
     ]
    }
   ],
   "source": [
    "#This is For Getting the Current Working Directory and the List of Files contain in the directory\n",
    "path = os.getcwd()\n",
    "print(path)\n",
    "files = os.listdir(path)\n",
    "print(files[1])"
   ]
  },
  {
   "cell_type": "code",
   "execution_count": 46,
   "id": "df074348",
   "metadata": {},
   "outputs": [],
   "source": [
    "df = pd.read_excel('ClimateChange.xlsx', header=0)"
   ]
  },
  {
   "cell_type": "code",
   "execution_count": 49,
   "id": "34004f04",
   "metadata": {},
   "outputs": [],
   "source": [
    "arr1 = np.array(df)\n",
    "arr2 = np.array([0.3,0.1,0.4])"
   ]
  },
  {
   "cell_type": "code",
   "execution_count": 53,
   "id": "dfbd7154",
   "metadata": {},
   "outputs": [
    {
     "data": {
      "text/plain": [
       "array([5.18 , 5.868, 2.487, ..., 4.113, 6.443, 4.07 ])"
      ]
     },
     "execution_count": 53,
     "metadata": {},
     "output_type": "execute_result"
    }
   ],
   "source": [
    "arr1 @ arr2 # Here we need to Do Matrix Multiplication @/matmul is the operator for the same"
   ]
  },
  {
   "cell_type": "code",
   "execution_count": null,
   "id": "bbe9b69b",
   "metadata": {},
   "outputs": [],
   "source": []
  }
 ],
 "metadata": {
  "kernelspec": {
   "display_name": "Python 3",
   "language": "python",
   "name": "python3"
  },
  "language_info": {
   "codemirror_mode": {
    "name": "ipython",
    "version": 3
   },
   "file_extension": ".py",
   "mimetype": "text/x-python",
   "name": "python",
   "nbconvert_exporter": "python",
   "pygments_lexer": "ipython3",
   "version": "3.8.8"
  }
 },
 "nbformat": 4,
 "nbformat_minor": 5
}
