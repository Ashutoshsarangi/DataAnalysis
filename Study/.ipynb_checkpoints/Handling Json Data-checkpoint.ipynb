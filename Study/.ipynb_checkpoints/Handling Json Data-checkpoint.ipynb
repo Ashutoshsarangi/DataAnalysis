{
 "cells": [
  {
   "cell_type": "markdown",
   "id": "bd02d76a",
   "metadata": {},
   "source": [
    "# Start"
   ]
  },
  {
   "cell_type": "markdown",
   "id": "e95fd1f1",
   "metadata": {},
   "source": [
    "## JSON Module\n",
    "#Here we need to Use the Json Module and it 2 main functionality\n",
    "### loads, dumps "
   ]
  },
  {
   "cell_type": "code",
   "execution_count": 2,
   "id": "05430875",
   "metadata": {},
   "outputs": [
    {
     "name": "stdout",
     "output_type": "stream",
     "text": [
      "{'ashu': {'name': 'Ashu', 'Address': 'ash 123 Red', 'phone': 123456}, 'bashu': {'name': 'Bashu', 'Address': 'Bashu 1234 Green', 'phone': 5545645}}\n"
     ]
    }
   ],
   "source": [
    "person = {}\n",
    "\n",
    "person['ashu']={\n",
    "    \"name\":'Ashu',\n",
    "    \"Address\": 'ash 123 Red',\n",
    "    \"phone\": 123456\n",
    "}\n",
    "\n",
    "person['bashu']={\n",
    "    \"name\":'Bashu',\n",
    "    \"Address\": 'Bashu 1234 Green',\n",
    "    \"phone\": 5545645\n",
    "}\n",
    "\n",
    "print(person) #this is the dictonary "
   ]
  },
  {
   "cell_type": "code",
   "execution_count": 4,
   "id": "90895e01",
   "metadata": {},
   "outputs": [
    {
     "name": "stdout",
     "output_type": "stream",
     "text": [
      "{\"ashu\": {\"name\": \"Ashu\", \"Address\": \"ash 123 Red\", \"phone\": 123456}, \"bashu\": {\"name\": \"Bashu\", \"Address\": \"Bashu 1234 Green\", \"phone\": 5545645}}\n"
     ]
    }
   ],
   "source": [
    "import json\n",
    "\n",
    "stringJson = json.dumps(person)\n",
    "print(stringJson); #Here It converts the Dict to String Formate"
   ]
  },
  {
   "cell_type": "markdown",
   "id": "18b084c4",
   "metadata": {},
   "source": [
    "## Here we Just need to Save that in a File\n",
    "\n",
    "## Now Lets convert the String Back to the Dictonary and get the Values\n"
   ]
  },
  {
   "cell_type": "code",
   "execution_count": 5,
   "id": "25df4a03",
   "metadata": {},
   "outputs": [],
   "source": [
    "jsonVal = json.loads(stringJson) #this is going to convert the string data to the dict formate data"
   ]
  },
  {
   "cell_type": "code",
   "execution_count": 6,
   "id": "81537432",
   "metadata": {},
   "outputs": [
    {
     "name": "stdout",
     "output_type": "stream",
     "text": [
      "{'ashu': {'name': 'Ashu', 'Address': 'ash 123 Red', 'phone': 123456}, 'bashu': {'name': 'Bashu', 'Address': 'Bashu 1234 Green', 'phone': 5545645}}\n"
     ]
    }
   ],
   "source": [
    "print(jsonVal);"
   ]
  },
  {
   "cell_type": "code",
   "execution_count": 12,
   "id": "e385979e",
   "metadata": {},
   "outputs": [
    {
     "name": "stdout",
     "output_type": "stream",
     "text": [
      "{'name': 'Ashu', 'Address': 'ash 123 Red', 'phone': 123456}\n",
      "Getting the Phone Number of Ashu= 123456\n"
     ]
    }
   ],
   "source": [
    "print(jsonVal['ashu'])\n",
    "\n",
    "print('Getting the Phone Number of Ashu= {}'.format(jsonVal['ashu']['phone']))\n",
    "\n"
   ]
  },
  {
   "cell_type": "code",
   "execution_count": 8,
   "id": "be30a62f",
   "metadata": {},
   "outputs": [
    {
     "name": "stdout",
     "output_type": "stream",
     "text": [
      "{'name': 'Ashu', 'Address': 'ash 123 Red', 'phone': 123456}\n",
      "{'name': 'Bashu', 'Address': 'Bashu 1234 Green', 'phone': 5545645}\n"
     ]
    }
   ],
   "source": [
    "for person in jsonVal:\n",
    "    print(jsonVal[person])"
   ]
  },
  {
   "cell_type": "markdown",
   "id": "2ad871a8",
   "metadata": {},
   "source": [
    "# Completed\n",
    "\n",
    "#### By Ashu, Inspired By CodeBasics "
   ]
  }
 ],
 "metadata": {
  "kernelspec": {
   "display_name": "Python 3",
   "language": "python",
   "name": "python3"
  },
  "language_info": {
   "codemirror_mode": {
    "name": "ipython",
    "version": 3
   },
   "file_extension": ".py",
   "mimetype": "text/x-python",
   "name": "python",
   "nbconvert_exporter": "python",
   "pygments_lexer": "ipython3",
   "version": "3.8.8"
  }
 },
 "nbformat": 4,
 "nbformat_minor": 5
}
